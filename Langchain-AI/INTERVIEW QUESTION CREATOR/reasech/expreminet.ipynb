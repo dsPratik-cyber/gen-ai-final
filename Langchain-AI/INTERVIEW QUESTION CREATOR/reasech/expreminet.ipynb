{
 "cells": [
  {
   "cell_type": "code",
   "execution_count": 1,
   "metadata": {},
   "outputs": [
    {
     "name": "stdout",
     "output_type": "stream",
     "text": [
      "Requirement already satisfied: openai in c:\\users\\91888\\anaconda3\\envs\\interviewt\\lib\\site-packages (1.70.0)\n",
      "Requirement already satisfied: anyio<5,>=3.5.0 in c:\\users\\91888\\anaconda3\\envs\\interviewt\\lib\\site-packages (from openai) (4.5.2)\n",
      "Requirement already satisfied: distro<2,>=1.7.0 in c:\\users\\91888\\anaconda3\\envs\\interviewt\\lib\\site-packages (from openai) (1.9.0)\n",
      "Requirement already satisfied: httpx<1,>=0.23.0 in c:\\users\\91888\\anaconda3\\envs\\interviewt\\lib\\site-packages (from openai) (0.28.1)\n",
      "Requirement already satisfied: jiter<1,>=0.4.0 in c:\\users\\91888\\anaconda3\\envs\\interviewt\\lib\\site-packages (from openai) (0.9.0)\n",
      "Requirement already satisfied: pydantic<3,>=1.9.0 in c:\\users\\91888\\anaconda3\\envs\\interviewt\\lib\\site-packages (from openai) (2.10.6)\n",
      "Requirement already satisfied: sniffio in c:\\users\\91888\\anaconda3\\envs\\interviewt\\lib\\site-packages (from openai) (1.3.1)\n",
      "Requirement already satisfied: tqdm>4 in c:\\users\\91888\\anaconda3\\envs\\interviewt\\lib\\site-packages (from openai) (4.67.1)\n",
      "Requirement already satisfied: typing-extensions<5,>=4.11 in c:\\users\\91888\\anaconda3\\envs\\interviewt\\lib\\site-packages (from openai) (4.12.2)\n",
      "Requirement already satisfied: idna>=2.8 in c:\\users\\91888\\anaconda3\\envs\\interviewt\\lib\\site-packages (from anyio<5,>=3.5.0->openai) (3.10)\n",
      "Requirement already satisfied: exceptiongroup>=1.0.2 in c:\\users\\91888\\anaconda3\\envs\\interviewt\\lib\\site-packages (from anyio<5,>=3.5.0->openai) (1.2.2)\n",
      "Requirement already satisfied: certifi in c:\\users\\91888\\anaconda3\\envs\\interviewt\\lib\\site-packages (from httpx<1,>=0.23.0->openai) (2025.1.31)\n",
      "Requirement already satisfied: httpcore==1.* in c:\\users\\91888\\anaconda3\\envs\\interviewt\\lib\\site-packages (from httpx<1,>=0.23.0->openai) (1.0.7)\n",
      "Requirement already satisfied: h11<0.15,>=0.13 in c:\\users\\91888\\anaconda3\\envs\\interviewt\\lib\\site-packages (from httpcore==1.*->httpx<1,>=0.23.0->openai) (0.14.0)\n",
      "Requirement already satisfied: annotated-types>=0.6.0 in c:\\users\\91888\\anaconda3\\envs\\interviewt\\lib\\site-packages (from pydantic<3,>=1.9.0->openai) (0.7.0)\n",
      "Requirement already satisfied: pydantic-core==2.27.2 in c:\\users\\91888\\anaconda3\\envs\\interviewt\\lib\\site-packages (from pydantic<3,>=1.9.0->openai) (2.27.2)\n",
      "Requirement already satisfied: colorama in c:\\users\\91888\\anaconda3\\envs\\interviewt\\lib\\site-packages (from tqdm>4->openai) (0.4.6)\n"
     ]
    }
   ],
   "source": [
    "import os\n",
    "from dotenv import load_dotenv"
   ]
  },
  {
   "cell_type": "code",
   "execution_count": null,
   "metadata": {},
   "outputs": [],
   "source": [
    "import os\n",
    "from dotenv import load_dotenv"
   ]
  },
  {
   "cell_type": "code",
   "execution_count": null,
   "metadata": {},
   "outputs": [],
   "source": [
    "load_dotenv()\n",
    "OPEN_API_KEY = os.getenv(\"OPEN_API_KEY\")\n"
   ]
  },
  {
   "cell_type": "markdown",
   "metadata": {},
   "source": [
    "load data\n"
   ]
  },
  {
   "cell_type": "code",
   "execution_count": 3,
   "metadata": {},
   "outputs": [],
   "source": [
    "from langchain.document_loaders import PyPDFLoader "
   ]
  },
  {
   "cell_type": "code",
   "execution_count": 4,
   "metadata": {},
   "outputs": [
    {
     "data": {
      "text/plain": [
       "'c:\\\\Users\\\\91888\\\\Desktop\\\\openAI\\\\Langchain-AI\\\\INTERVIEW QUESTION CREATOR\\\\reasech'"
      ]
     },
     "execution_count": 4,
     "metadata": {},
     "output_type": "execute_result"
    }
   ],
   "source": [
    "#check the working project directory\n",
    "\n",
    "%pwd"
   ]
  },
  {
   "cell_type": "code",
   "execution_count": 5,
   "metadata": {},
   "outputs": [
    {
     "name": "stdout",
     "output_type": "stream",
     "text": [
      "c:\\Users\\91888\\Desktop\\openAI\\Langchain-AI\\INTERVIEW QUESTION CREATOR\n"
     ]
    }
   ],
   "source": [
    "# data is outsiden of directory the use\n",
    "\n",
    "%cd .."
   ]
  },
  {
   "cell_type": "code",
   "execution_count": 6,
   "metadata": {},
   "outputs": [],
   "source": [
    "file_path =\"data\\eggetarian_indian_diet_plan.pdf\"\n",
    "loader = PyPDFLoader(file_path)\n",
    "data = loader.load()"
   ]
  },
  {
   "cell_type": "code",
   "execution_count": 7,
   "metadata": {},
   "outputs": [
    {
     "data": {
      "text/plain": [
       "[Document(metadata={'source': 'data\\\\eggetarian_indian_diet_plan.pdf', 'page': 0}, page_content='7-Day Eggetarian Indian Diet Plan\\nDay 1\\nBreakfast: Egg and Vegetable Sandwich\\nLunch: Soya Chunks Pulao with mixed vegetables\\nDinner: Vegetable Omelette\\nSnack: Hard-Boiled Eggs\\nDay 2\\nBreakfast: Overnight Oats with Boiled Eggs\\nLunch: Soya and Spinach Stir-Fry with Roti\\nDinner: Quick Egg Curry with Store-Bought Roti\\nSnack: Cucumber and Tomato Salad\\nDay 3\\nBreakfast: Masala Chai with Whole-Grain Biscuits\\nLunch: Soya Chunks Salad with mixed greens and lemon dressing\\nDinner: Simple Vegetable Omelette\\nSnack: Mixed Nuts\\nDay 4\\nBreakfast: Chia Seed Pudding topped with nuts\\nLunch: Egg Salad with Soya and mixed vegetables\\nDinner: Boiled Eggs with Soya and Vegetable Stir-Fry\\nSnack: Roasted Chickpeas\\nDay 5\\nBreakfast: Scrambled Eggs with Toast\\nLunch: Soya and Vegetable Curry with Quinoa'),\n",
       " Document(metadata={'source': 'data\\\\eggetarian_indian_diet_plan.pdf', 'page': 1}, page_content='Dinner: Palak (Spinach) and Egg\\nSnack: Carrot and Cucumber Sticks with Yogurt Dip\\nDay 6\\nBreakfast: Egg and Oats Pancakes\\nLunch: Leftover Soya Pulao\\nDinner: Tomato and Onion Omelette with a side of Soya\\nSnack: Hard-Boiled Eggs\\nDay 7\\nBreakfast: Vegetable Upma with Boiled Eggs\\nLunch: Chole (Chickpeas) with Soya and Egg\\nDinner: Masala Egg Curry with Brown Rice\\nSnack: Fresh Fruit Salad (without added sugar)\\nGeneral Tips:\\n1. Preparation: Soak and cook soya chunks ahead of time to make meal preparation faster.\\n2. Variety: Mix and match dishes or use leftover ingredients creatively to avoid food waste.\\n3. Hydration: Stay hydrated with plenty of water, buttermilk, or lemon water.')]"
      ]
     },
     "execution_count": 7,
     "metadata": {},
     "output_type": "execute_result"
    }
   ],
   "source": [
    "data"
   ]
  },
  {
   "cell_type": "code",
   "execution_count": 8,
   "metadata": {},
   "outputs": [
    {
     "data": {
      "text/plain": [
       "2"
      ]
     },
     "execution_count": 8,
     "metadata": {},
     "output_type": "execute_result"
    }
   ],
   "source": [
    "len(data)"
   ]
  },
  {
   "cell_type": "code",
   "execution_count": 9,
   "metadata": {},
   "outputs": [],
   "source": [
    "# seprate seprate variable wantb  tp store data in one variable\n",
    "\n",
    "question_gen = \"\"\n",
    "\n",
    "for page in data:\n",
    "    question_gen += page.page_content\n"
   ]
  },
  {
   "cell_type": "code",
   "execution_count": 10,
   "metadata": {},
   "outputs": [
    {
     "data": {
      "text/plain": [
       "'7-Day Eggetarian Indian Diet Plan\\nDay 1\\nBreakfast: Egg and Vegetable Sandwich\\nLunch: Soya Chunks Pulao with mixed vegetables\\nDinner: Vegetable Omelette\\nSnack: Hard-Boiled Eggs\\nDay 2\\nBreakfast: Overnight Oats with Boiled Eggs\\nLunch: Soya and Spinach Stir-Fry with Roti\\nDinner: Quick Egg Curry with Store-Bought Roti\\nSnack: Cucumber and Tomato Salad\\nDay 3\\nBreakfast: Masala Chai with Whole-Grain Biscuits\\nLunch: Soya Chunks Salad with mixed greens and lemon dressing\\nDinner: Simple Vegetable Omelette\\nSnack: Mixed Nuts\\nDay 4\\nBreakfast: Chia Seed Pudding topped with nuts\\nLunch: Egg Salad with Soya and mixed vegetables\\nDinner: Boiled Eggs with Soya and Vegetable Stir-Fry\\nSnack: Roasted Chickpeas\\nDay 5\\nBreakfast: Scrambled Eggs with Toast\\nLunch: Soya and Vegetable Curry with QuinoaDinner: Palak (Spinach) and Egg\\nSnack: Carrot and Cucumber Sticks with Yogurt Dip\\nDay 6\\nBreakfast: Egg and Oats Pancakes\\nLunch: Leftover Soya Pulao\\nDinner: Tomato and Onion Omelette with a side of Soya\\nSnack: Hard-Boiled Eggs\\nDay 7\\nBreakfast: Vegetable Upma with Boiled Eggs\\nLunch: Chole (Chickpeas) with Soya and Egg\\nDinner: Masala Egg Curry with Brown Rice\\nSnack: Fresh Fruit Salad (without added sugar)\\nGeneral Tips:\\n1. Preparation: Soak and cook soya chunks ahead of time to make meal preparation faster.\\n2. Variety: Mix and match dishes or use leftover ingredients creatively to avoid food waste.\\n3. Hydration: Stay hydrated with plenty of water, buttermilk, or lemon water.'"
      ]
     },
     "execution_count": 10,
     "metadata": {},
     "output_type": "execute_result"
    }
   ],
   "source": [
    "question_gen"
   ]
  },
  {
   "cell_type": "markdown",
   "metadata": {},
   "source": [
    "# data loading completed"
   ]
  },
  {
   "cell_type": "markdown",
   "metadata": {},
   "source": [
    "**now chunking opration**"
   ]
  },
  {
   "cell_type": "code",
   "execution_count": 11,
   "metadata": {},
   "outputs": [],
   "source": [
    "from langchain.text_splitter import TokenTextSplitter"
   ]
  },
  {
   "cell_type": "code",
   "execution_count": 12,
   "metadata": {},
   "outputs": [],
   "source": [
    "# toekntextspillter use model like gpt fro chunking\n",
    "\n",
    "splitter_ques_gen = TokenTextSplitter(\n",
    "    model_name =\"gpt-3.5-turbo\",\n",
    "    chunk_size =10000,\n",
    "    chunk_overlap = 200\n",
    ") "
   ]
  },
  {
   "cell_type": "code",
   "execution_count": 13,
   "metadata": {},
   "outputs": [],
   "source": [
    "chunk_ques_gen = splitter_ques_gen.split_text(question_gen)"
   ]
  },
  {
   "cell_type": "code",
   "execution_count": 14,
   "metadata": {},
   "outputs": [
    {
     "data": {
      "text/plain": [
       "['7-Day Eggetarian Indian Diet Plan\\nDay 1\\nBreakfast: Egg and Vegetable Sandwich\\nLunch: Soya Chunks Pulao with mixed vegetables\\nDinner: Vegetable Omelette\\nSnack: Hard-Boiled Eggs\\nDay 2\\nBreakfast: Overnight Oats with Boiled Eggs\\nLunch: Soya and Spinach Stir-Fry with Roti\\nDinner: Quick Egg Curry with Store-Bought Roti\\nSnack: Cucumber and Tomato Salad\\nDay 3\\nBreakfast: Masala Chai with Whole-Grain Biscuits\\nLunch: Soya Chunks Salad with mixed greens and lemon dressing\\nDinner: Simple Vegetable Omelette\\nSnack: Mixed Nuts\\nDay 4\\nBreakfast: Chia Seed Pudding topped with nuts\\nLunch: Egg Salad with Soya and mixed vegetables\\nDinner: Boiled Eggs with Soya and Vegetable Stir-Fry\\nSnack: Roasted Chickpeas\\nDay 5\\nBreakfast: Scrambled Eggs with Toast\\nLunch: Soya and Vegetable Curry with QuinoaDinner: Palak (Spinach) and Egg\\nSnack: Carrot and Cucumber Sticks with Yogurt Dip\\nDay 6\\nBreakfast: Egg and Oats Pancakes\\nLunch: Leftover Soya Pulao\\nDinner: Tomato and Onion Omelette with a side of Soya\\nSnack: Hard-Boiled Eggs\\nDay 7\\nBreakfast: Vegetable Upma with Boiled Eggs\\nLunch: Chole (Chickpeas) with Soya and Egg\\nDinner: Masala Egg Curry with Brown Rice\\nSnack: Fresh Fruit Salad (without added sugar)\\nGeneral Tips:\\n1. Preparation: Soak and cook soya chunks ahead of time to make meal preparation faster.\\n2. Variety: Mix and match dishes or use leftover ingredients creatively to avoid food waste.\\n3. Hydration: Stay hydrated with plenty of water, buttermilk, or lemon water.']"
      ]
     },
     "execution_count": 14,
     "metadata": {},
     "output_type": "execute_result"
    }
   ],
   "source": [
    "chunk_ques_gen"
   ]
  },
  {
   "cell_type": "code",
   "execution_count": 15,
   "metadata": {},
   "outputs": [
    {
     "data": {
      "text/plain": [
       "1"
      ]
     },
     "execution_count": 15,
     "metadata": {},
     "output_type": "execute_result"
    }
   ],
   "source": [
    "len(chunk_ques_gen)"
   ]
  },
  {
   "cell_type": "code",
   "execution_count": 16,
   "metadata": {},
   "outputs": [
    {
     "data": {
      "text/plain": [
       "str"
      ]
     },
     "execution_count": 16,
     "metadata": {},
     "output_type": "execute_result"
    }
   ],
   "source": [
    "type(chunk_ques_gen[0])"
   ]
  },
  {
   "cell_type": "markdown",
   "metadata": {},
   "source": [
    "**we want to convert in document**"
   ]
  },
  {
   "cell_type": "code",
   "execution_count": 17,
   "metadata": {},
   "outputs": [],
   "source": [
    "from langchain.docstore.document import Document"
   ]
  },
  {
   "cell_type": "code",
   "execution_count": 18,
   "metadata": {},
   "outputs": [],
   "source": [
    "document_ques_gen = [Document(page_content = t) for t in chunk_ques_gen]"
   ]
  },
  {
   "cell_type": "code",
   "execution_count": 19,
   "metadata": {},
   "outputs": [
    {
     "data": {
      "text/plain": [
       "[Document(page_content='7-Day Eggetarian Indian Diet Plan\\nDay 1\\nBreakfast: Egg and Vegetable Sandwich\\nLunch: Soya Chunks Pulao with mixed vegetables\\nDinner: Vegetable Omelette\\nSnack: Hard-Boiled Eggs\\nDay 2\\nBreakfast: Overnight Oats with Boiled Eggs\\nLunch: Soya and Spinach Stir-Fry with Roti\\nDinner: Quick Egg Curry with Store-Bought Roti\\nSnack: Cucumber and Tomato Salad\\nDay 3\\nBreakfast: Masala Chai with Whole-Grain Biscuits\\nLunch: Soya Chunks Salad with mixed greens and lemon dressing\\nDinner: Simple Vegetable Omelette\\nSnack: Mixed Nuts\\nDay 4\\nBreakfast: Chia Seed Pudding topped with nuts\\nLunch: Egg Salad with Soya and mixed vegetables\\nDinner: Boiled Eggs with Soya and Vegetable Stir-Fry\\nSnack: Roasted Chickpeas\\nDay 5\\nBreakfast: Scrambled Eggs with Toast\\nLunch: Soya and Vegetable Curry with QuinoaDinner: Palak (Spinach) and Egg\\nSnack: Carrot and Cucumber Sticks with Yogurt Dip\\nDay 6\\nBreakfast: Egg and Oats Pancakes\\nLunch: Leftover Soya Pulao\\nDinner: Tomato and Onion Omelette with a side of Soya\\nSnack: Hard-Boiled Eggs\\nDay 7\\nBreakfast: Vegetable Upma with Boiled Eggs\\nLunch: Chole (Chickpeas) with Soya and Egg\\nDinner: Masala Egg Curry with Brown Rice\\nSnack: Fresh Fruit Salad (without added sugar)\\nGeneral Tips:\\n1. Preparation: Soak and cook soya chunks ahead of time to make meal preparation faster.\\n2. Variety: Mix and match dishes or use leftover ingredients creatively to avoid food waste.\\n3. Hydration: Stay hydrated with plenty of water, buttermilk, or lemon water.')]"
      ]
     },
     "execution_count": 19,
     "metadata": {},
     "output_type": "execute_result"
    }
   ],
   "source": [
    "document_ques_gen"
   ]
  },
  {
   "cell_type": "code",
   "execution_count": 20,
   "metadata": {},
   "outputs": [
    {
     "data": {
      "text/plain": [
       "langchain_core.documents.base.Document"
      ]
     },
     "execution_count": 20,
     "metadata": {},
     "output_type": "execute_result"
    }
   ],
   "source": [
    "type(document_ques_gen[0])"
   ]
  },
  {
   "cell_type": "markdown",
   "metadata": {},
   "source": [
    "**for using tokentextsplitter data must be in document**"
   ]
  },
  {
   "cell_type": "code",
   "execution_count": 21,
   "metadata": {},
   "outputs": [],
   "source": [
    "splitter_ques_gen = TokenTextSplitter(\n",
    "    model_name =\"gpt-3.5-turbo\",\n",
    "    chunk_size =10000,\n",
    "    chunk_overlap = 100\n",
    ") "
   ]
  },
  {
   "cell_type": "code",
   "execution_count": 22,
   "metadata": {},
   "outputs": [],
   "source": [
    "document_answer_gen = splitter_ques_gen.split_documents(\n",
    "    document_ques_gen   \n",
    ")"
   ]
  },
  {
   "cell_type": "code",
   "execution_count": 23,
   "metadata": {},
   "outputs": [
    {
     "data": {
      "text/plain": [
       "[Document(page_content='7-Day Eggetarian Indian Diet Plan\\nDay 1\\nBreakfast: Egg and Vegetable Sandwich\\nLunch: Soya Chunks Pulao with mixed vegetables\\nDinner: Vegetable Omelette\\nSnack: Hard-Boiled Eggs\\nDay 2\\nBreakfast: Overnight Oats with Boiled Eggs\\nLunch: Soya and Spinach Stir-Fry with Roti\\nDinner: Quick Egg Curry with Store-Bought Roti\\nSnack: Cucumber and Tomato Salad\\nDay 3\\nBreakfast: Masala Chai with Whole-Grain Biscuits\\nLunch: Soya Chunks Salad with mixed greens and lemon dressing\\nDinner: Simple Vegetable Omelette\\nSnack: Mixed Nuts\\nDay 4\\nBreakfast: Chia Seed Pudding topped with nuts\\nLunch: Egg Salad with Soya and mixed vegetables\\nDinner: Boiled Eggs with Soya and Vegetable Stir-Fry\\nSnack: Roasted Chickpeas\\nDay 5\\nBreakfast: Scrambled Eggs with Toast\\nLunch: Soya and Vegetable Curry with QuinoaDinner: Palak (Spinach) and Egg\\nSnack: Carrot and Cucumber Sticks with Yogurt Dip\\nDay 6\\nBreakfast: Egg and Oats Pancakes\\nLunch: Leftover Soya Pulao\\nDinner: Tomato and Onion Omelette with a side of Soya\\nSnack: Hard-Boiled Eggs\\nDay 7\\nBreakfast: Vegetable Upma with Boiled Eggs\\nLunch: Chole (Chickpeas) with Soya and Egg\\nDinner: Masala Egg Curry with Brown Rice\\nSnack: Fresh Fruit Salad (without added sugar)\\nGeneral Tips:\\n1. Preparation: Soak and cook soya chunks ahead of time to make meal preparation faster.\\n2. Variety: Mix and match dishes or use leftover ingredients creatively to avoid food waste.\\n3. Hydration: Stay hydrated with plenty of water, buttermilk, or lemon water.')]"
      ]
     },
     "execution_count": 23,
     "metadata": {},
     "output_type": "execute_result"
    }
   ],
   "source": [
    "document_answer_gen"
   ]
  },
  {
   "cell_type": "code",
   "execution_count": 24,
   "metadata": {},
   "outputs": [
    {
     "data": {
      "text/plain": [
       "1"
      ]
     },
     "execution_count": 24,
     "metadata": {},
     "output_type": "execute_result"
    }
   ],
   "source": [
    "len(document_answer_gen)"
   ]
  },
  {
   "cell_type": "markdown",
   "metadata": {},
   "source": [
    "**chunking is done**"
   ]
  },
  {
   "cell_type": "markdown",
   "metadata": {},
   "source": [
    "# Defien LLm"
   ]
  },
  {
   "cell_type": "code",
   "execution_count": null,
   "metadata": {},
   "outputs": [],
   "source": []
  },
  {
   "cell_type": "code",
   "execution_count": 25,
   "metadata": {},
   "outputs": [],
   "source": [
    "from langchain.chat_models import ChatOpenAI"
   ]
  },
  {
   "cell_type": "code",
   "execution_count": null,
   "metadata": {},
   "outputs": [],
   "source": [
    "llm_ques_gen_pipeline = ChatOpenAI(\n",
    "    model = \"gpt-3.5-turbo\",\n",
    "    tempreture = 0.3\n",
    ")"
   ]
  },
  {
   "cell_type": "markdown",
   "metadata": {},
   "source": [
    "define Prompt"
   ]
  },
  {
   "cell_type": "code",
   "execution_count": 28,
   "metadata": {},
   "outputs": [],
   "source": [
    "prompt_template = \"\"\"\n",
    "You are an expert at creating questions based on coding materials and documentation.\n",
    "Your goal is to prepare a coder or programmer for their exam and coding tests.\n",
    "You do this by asking questions about the text below:\n",
    "\n",
    "------------\n",
    "{text}\n",
    "------------\n",
    "\n",
    "Create questions that will prepare the coders or programmers for their tests.\n",
    "Make sure not to lose any important information.\n",
    "\n",
    "QUESTIONS:\n",
    "\"\"\""
   ]
  },
  {
   "cell_type": "code",
   "execution_count": 29,
   "metadata": {},
   "outputs": [],
   "source": [
    "from langchain.prompts import PromptTemplate"
   ]
  },
  {
   "cell_type": "code",
   "execution_count": 30,
   "metadata": {},
   "outputs": [],
   "source": [
    "PROMPT_QUESTION = PromptTemplate(template  = prompt_template, input_variables= [\"text\"])"
   ]
  },
  {
   "cell_type": "markdown",
   "metadata": {},
   "source": [
    "**fro validate prompt we have to use refine Prompt for better Prompt**"
   ]
  },
  {
   "cell_type": "code",
   "execution_count": 31,
   "metadata": {},
   "outputs": [],
   "source": [
    "refine_template = (\"\"\"\n",
    "You are an expert at creating practice questions based on coding material and documentation.\n",
    "Your goal is to help a coder or programmer prepare for a coding test.\n",
    "We have received some practice questions to a certain extent: {existing_answer}.\n",
    "We have the option to refine the existing questions or add new ones.\n",
    "(only if necessary) with some more context below.\n",
    "------------\n",
    "{text}\n",
    "------------\n",
    "\n",
    "Given the new context, refine the original questions in English.\n",
    "If the context is not helpful, please provide the original questions.\n",
    "QUESTIONS:\n",
    "\"\"\"\n",
    ")"
   ]
  },
  {
   "cell_type": "code",
   "execution_count": 32,
   "metadata": {},
   "outputs": [],
   "source": [
    "REFINE_PROMPT_TEMPLATE = PromptTemplate(\n",
    "    template = refine_template,\n",
    "    input_variables = [\"text\", \"existing_answer\"]\n",
    "    )"
   ]
  },
  {
   "cell_type": "markdown",
   "metadata": {},
   "source": [
    "**from getting question the we have to intregated llm model with prompt then we use**"
   ]
  },
  {
   "cell_type": "code",
   "execution_count": 33,
   "metadata": {},
   "outputs": [],
   "source": [
    "from langchain.chains.summarize import load_summarize_chain"
   ]
  },
  {
   "cell_type": "code",
   "execution_count": 34,
   "metadata": {},
   "outputs": [],
   "source": [
    "ques_gen_chain = load_summarize_chain(llm_ques_gen_pipeline,\n",
    "                                      chain_type =\"refine\",\n",
    "                                      verbose = True,\n",
    "                                      question_prompt = PROMPT_QUESTION,\n",
    "                                      refine_prompt = REFINE_PROMPT_TEMPLATE)"
   ]
  },
  {
   "cell_type": "code",
   "execution_count": 38,
   "metadata": {},
   "outputs": [
    {
     "name": "stderr",
     "output_type": "stream",
     "text": [
      "Error in StdOutCallbackHandler.on_chain_start callback: AttributeError(\"'NoneType' object has no attribute 'get'\")\n",
      "Error in StdOutCallbackHandler.on_chain_start callback: AttributeError(\"'NoneType' object has no attribute 'get'\")\n"
     ]
    },
    {
     "name": "stdout",
     "output_type": "stream",
     "text": [
      "Prompt after formatting:\n",
      "\u001b[32;1m\u001b[1;3m\n",
      "You are an expert at creating questions based on coding materials and documentation.\n",
      "Your goal is to prepare a coder or programmer for their exam and coding tests.\n",
      "You do this by asking questions about the text below:\n",
      "\n",
      "------------\n",
      "7-Day Eggetarian Indian Diet Plan\n",
      "Day 1\n",
      "Breakfast: Egg and Vegetable Sandwich\n",
      "Lunch: Soya Chunks Pulao with mixed vegetables\n",
      "Dinner: Vegetable Omelette\n",
      "Snack: Hard-Boiled Eggs\n",
      "Day 2\n",
      "Breakfast: Overnight Oats with Boiled Eggs\n",
      "Lunch: Soya and Spinach Stir-Fry with Roti\n",
      "Dinner: Quick Egg Curry with Store-Bought Roti\n",
      "Snack: Cucumber and Tomato Salad\n",
      "Day 3\n",
      "Breakfast: Masala Chai with Whole-Grain Biscuits\n",
      "Lunch: Soya Chunks Salad with mixed greens and lemon dressing\n",
      "Dinner: Simple Vegetable Omelette\n",
      "Snack: Mixed Nuts\n",
      "Day 4\n",
      "Breakfast: Chia Seed Pudding topped with nuts\n",
      "Lunch: Egg Salad with Soya and mixed vegetables\n",
      "Dinner: Boiled Eggs with Soya and Vegetable Stir-Fry\n",
      "Snack: Roasted Chickpeas\n",
      "Day 5\n",
      "Breakfast: Scrambled Eggs with Toast\n",
      "Lunch: Soya and Vegetable Curry with QuinoaDinner: Palak (Spinach) and Egg\n",
      "Snack: Carrot and Cucumber Sticks with Yogurt Dip\n",
      "Day 6\n",
      "Breakfast: Egg and Oats Pancakes\n",
      "Lunch: Leftover Soya Pulao\n",
      "Dinner: Tomato and Onion Omelette with a side of Soya\n",
      "Snack: Hard-Boiled Eggs\n",
      "Day 7\n",
      "Breakfast: Vegetable Upma with Boiled Eggs\n",
      "Lunch: Chole (Chickpeas) with Soya and Egg\n",
      "Dinner: Masala Egg Curry with Brown Rice\n",
      "Snack: Fresh Fruit Salad (without added sugar)\n",
      "General Tips:\n",
      "1. Preparation: Soak and cook soya chunks ahead of time to make meal preparation faster.\n",
      "2. Variety: Mix and match dishes or use leftover ingredients creatively to avoid food waste.\n",
      "3. Hydration: Stay hydrated with plenty of water, buttermilk, or lemon water.\n",
      "------------\n",
      "\n",
      "Create questions that will prepare the coders or programmers for their tests.\n",
      "Make sure not to lose any important information.\n",
      "\n",
      "QUESTIONS:\n",
      "\u001b[0m\n",
      "\n",
      "\u001b[1m> Finished chain.\u001b[0m\n",
      "\n",
      "\u001b[1m> Finished chain.\u001b[0m\n",
      "{'input_documents': [Document(page_content='7-Day Eggetarian Indian Diet Plan\\nDay 1\\nBreakfast: Egg and Vegetable Sandwich\\nLunch: Soya Chunks Pulao with mixed vegetables\\nDinner: Vegetable Omelette\\nSnack: Hard-Boiled Eggs\\nDay 2\\nBreakfast: Overnight Oats with Boiled Eggs\\nLunch: Soya and Spinach Stir-Fry with Roti\\nDinner: Quick Egg Curry with Store-Bought Roti\\nSnack: Cucumber and Tomato Salad\\nDay 3\\nBreakfast: Masala Chai with Whole-Grain Biscuits\\nLunch: Soya Chunks Salad with mixed greens and lemon dressing\\nDinner: Simple Vegetable Omelette\\nSnack: Mixed Nuts\\nDay 4\\nBreakfast: Chia Seed Pudding topped with nuts\\nLunch: Egg Salad with Soya and mixed vegetables\\nDinner: Boiled Eggs with Soya and Vegetable Stir-Fry\\nSnack: Roasted Chickpeas\\nDay 5\\nBreakfast: Scrambled Eggs with Toast\\nLunch: Soya and Vegetable Curry with QuinoaDinner: Palak (Spinach) and Egg\\nSnack: Carrot and Cucumber Sticks with Yogurt Dip\\nDay 6\\nBreakfast: Egg and Oats Pancakes\\nLunch: Leftover Soya Pulao\\nDinner: Tomato and Onion Omelette with a side of Soya\\nSnack: Hard-Boiled Eggs\\nDay 7\\nBreakfast: Vegetable Upma with Boiled Eggs\\nLunch: Chole (Chickpeas) with Soya and Egg\\nDinner: Masala Egg Curry with Brown Rice\\nSnack: Fresh Fruit Salad (without added sugar)\\nGeneral Tips:\\n1. Preparation: Soak and cook soya chunks ahead of time to make meal preparation faster.\\n2. Variety: Mix and match dishes or use leftover ingredients creatively to avoid food waste.\\n3. Hydration: Stay hydrated with plenty of water, buttermilk, or lemon water.')], 'output_text': 'This text provides a diet plan, not coding material.  To prepare coders for tests, we need code snippets or algorithms. \\n\\nHowever, we can still extract some logic-based questions from the diet plan:\\n\\n**Logic and Planning:**\\n\\n1. **Day Repetition:**  The diet plan mentions \"Leftover Soya Pulao\" on Day 6.  How could a program be designed to automatically generate a weekly meal plan that includes leftovers to minimize food waste?\\n2. **Ingredient Substitution:**  Imagine a user wants to substitute a specific ingredient (e.g., \"Soya Chunks\" with \"Tofu\").  How would you structure a program to handle ingredient substitutions while maintaining the nutritional balance of the meal plan?\\n3. **Dietary Restrictions:**  How could a program be modified to accommodate different dietary restrictions (e.g., vegetarian, vegan, gluten-free)?  What data structures would be useful for storing and managing these restrictions?\\n\\n**Data Structures and Algorithms:**\\n\\n1. **Meal Database:**  Design a data structure to store the information about each meal in the diet plan (e.g., name, ingredients, calories, nutritional information).\\n2. **Recipe Generation:**  Develop an algorithm that can generate a random meal plan for a week based on the existing meal database.\\n3. **Shopping List:**  Create a program that analyzes the meal plan and generates a comprehensive shopping list, grouping ingredients by category (e.g., fruits, vegetables, grains).\\n\\n**Remember:** These questions focus on applying programming concepts to a real-world scenario.  \\n\\n\\nLet me know if you have any code snippets or specific programming languages in mind, and I can create more targeted questions.\\n'}\n"
     ]
    }
   ],
   "source": [
    "ques = ques_gen_chain.invoke(document_ques_gen)\n",
    "\n",
    "print(ques)"
   ]
  },
  {
   "cell_type": "markdown",
   "metadata": {},
   "source": [
    "its give all 10 question on pdf based"
   ]
  },
  {
   "cell_type": "markdown",
   "metadata": {},
   "source": [
    "# **EMBEDDING**"
   ]
  },
  {
   "cell_type": "code",
   "execution_count": 52,
   "metadata": {},
   "outputs": [],
   "source": [
    "from langchain.embeddings.openai import OpenAIEmbeddings"
   ]
  },
  {
   "cell_type": "code",
   "execution_count": null,
   "metadata": {},
   "outputs": [],
   "source": [
    "embeddings = OpenAIEmbeddings()\n"
   ]
  },
  {
   "cell_type": "markdown",
   "metadata": {},
   "source": [
    "define vector database\n"
   ]
  },
  {
   "cell_type": "markdown",
   "metadata": {},
   "source": [
    "faiss is faster than chroma db"
   ]
  },
  {
   "cell_type": "code",
   "execution_count": 56,
   "metadata": {},
   "outputs": [],
   "source": [
    "from langchain.vectorstores import FAISS"
   ]
  },
  {
   "cell_type": "code",
   "execution_count": null,
   "metadata": {},
   "outputs": [],
   "source": [
    "vector_store = FAISS.from_documents(document_answer_gen, embeddings)"
   ]
  },
  {
   "cell_type": "code",
   "execution_count": null,
   "metadata": {},
   "outputs": [],
   "source": [
    "# again define llm model\n",
    "\n",
    "llm_answer_gen = ChatOpenAI(tempereature = 0.1, model = \"gpt-3.5-turbo\")"
   ]
  },
  {
   "cell_type": "code",
   "execution_count": 63,
   "metadata": {},
   "outputs": [
    {
     "data": {
      "text/plain": [
       "{'input_documents': [Document(page_content='7-Day Eggetarian Indian Diet Plan\\nDay 1\\nBreakfast: Egg and Vegetable Sandwich\\nLunch: Soya Chunks Pulao with mixed vegetables\\nDinner: Vegetable Omelette\\nSnack: Hard-Boiled Eggs\\nDay 2\\nBreakfast: Overnight Oats with Boiled Eggs\\nLunch: Soya and Spinach Stir-Fry with Roti\\nDinner: Quick Egg Curry with Store-Bought Roti\\nSnack: Cucumber and Tomato Salad\\nDay 3\\nBreakfast: Masala Chai with Whole-Grain Biscuits\\nLunch: Soya Chunks Salad with mixed greens and lemon dressing\\nDinner: Simple Vegetable Omelette\\nSnack: Mixed Nuts\\nDay 4\\nBreakfast: Chia Seed Pudding topped with nuts\\nLunch: Egg Salad with Soya and mixed vegetables\\nDinner: Boiled Eggs with Soya and Vegetable Stir-Fry\\nSnack: Roasted Chickpeas\\nDay 5\\nBreakfast: Scrambled Eggs with Toast\\nLunch: Soya and Vegetable Curry with QuinoaDinner: Palak (Spinach) and Egg\\nSnack: Carrot and Cucumber Sticks with Yogurt Dip\\nDay 6\\nBreakfast: Egg and Oats Pancakes\\nLunch: Leftover Soya Pulao\\nDinner: Tomato and Onion Omelette with a side of Soya\\nSnack: Hard-Boiled Eggs\\nDay 7\\nBreakfast: Vegetable Upma with Boiled Eggs\\nLunch: Chole (Chickpeas) with Soya and Egg\\nDinner: Masala Egg Curry with Brown Rice\\nSnack: Fresh Fruit Salad (without added sugar)\\nGeneral Tips:\\n1. Preparation: Soak and cook soya chunks ahead of time to make meal preparation faster.\\n2. Variety: Mix and match dishes or use leftover ingredients creatively to avoid food waste.\\n3. Hydration: Stay hydrated with plenty of water, buttermilk, or lemon water.')],\n",
       " 'output_text': 'This text provides a diet plan, not coding material.  To prepare coders for tests, we need code snippets or algorithms. \\n\\nHowever, we can still extract some logic-based questions from the diet plan:\\n\\n**Logic and Planning:**\\n\\n1. **Day Repetition:**  The diet plan mentions \"Leftover Soya Pulao\" on Day 6.  How could a program be designed to automatically generate a weekly meal plan that includes leftovers to minimize food waste?\\n2. **Ingredient Substitution:**  Imagine a user wants to substitute a specific ingredient (e.g., \"Soya Chunks\" with \"Tofu\").  How would you structure a program to handle ingredient substitutions while maintaining the nutritional balance of the meal plan?\\n3. **Dietary Restrictions:**  How could a program be modified to accommodate different dietary restrictions (e.g., vegetarian, vegan, gluten-free)?  What data structures would be useful for storing and managing these restrictions?\\n\\n**Data Structures and Algorithms:**\\n\\n1. **Meal Database:**  Design a data structure to store the information about each meal in the diet plan (e.g., name, ingredients, calories, nutritional information).\\n2. **Recipe Generation:**  Develop an algorithm that can generate a random meal plan for a week based on the existing meal database.\\n3. **Shopping List:**  Create a program that analyzes the meal plan and generates a comprehensive shopping list, grouping ingredients by category (e.g., fruits, vegetables, grains).\\n\\n**Remember:** These questions focus on applying programming concepts to a real-world scenario.  \\n\\n\\nLet me know if you have any code snippets or specific programming languages in mind, and I can create more targeted questions.\\n'}"
      ]
     },
     "execution_count": 63,
     "metadata": {},
     "output_type": "execute_result"
    }
   ],
   "source": [
    "ques"
   ]
  },
  {
   "cell_type": "code",
   "execution_count": 64,
   "metadata": {},
   "outputs": [
    {
     "name": "stdout",
     "output_type": "stream",
     "text": [
      "<class 'dict'>\n"
     ]
    }
   ],
   "source": [
    "print(type(ques))"
   ]
  },
  {
   "cell_type": "markdown",
   "metadata": {},
   "source": [
    "show line by line"
   ]
  },
  {
   "cell_type": "code",
   "execution_count": null,
   "metadata": {},
   "outputs": [],
   "source": [
    "ques_list = ques.split(\"\\n\")"
   ]
  },
  {
   "cell_type": "markdown",
   "metadata": {},
   "source": [
    "# **question-answer chain**"
   ]
  },
  {
   "cell_type": "code",
   "execution_count": null,
   "metadata": {},
   "outputs": [],
   "source": [
    "from langchain.chains import RetrievalQA"
   ]
  },
  {
   "cell_type": "code",
   "execution_count": null,
   "metadata": {},
   "outputs": [],
   "source": [
    "answer_generation_chain = RetrievalQA.from_chain_type(llm =llm_answer_gen,\n",
    "                                                      chain_type = \"stuff\",\n",
    "                                                      retriever = vector_store.as_retriever())"
   ]
  },
  {
   "cell_type": "code",
   "execution_count": null,
   "metadata": {},
   "outputs": [],
   "source": [
    "# Answer each question and save to a file\n",
    "\n",
    "for question in ques_list:\n",
    "    print(\"Question: \", question)\n",
    "    answer = answer_generation_chain.run(question)\n",
    "    print(\"Answer :\", answer)\n",
    "    print(\"------------------------------------------------------\\\\n\\\\n\")\n",
    "\n",
    "    # Save answer to file\n",
    "\n",
    "    with open(\"answer.txt\", \"a\") as f:\n",
    "        f.write(\"Question: \" + question + \"\\\\n\")\n",
    "        f.write(\"Answer: \" + answer + \"\\\\n\")\n",
    "        f.write(\"------------------------------------------------------\\\\n\\\\n\")"
   ]
  },
  {
   "cell_type": "markdown",
   "metadata": {},
   "source": [
    "**ye answer.txt file banayenga or vha questio and answer savve karenga**"
   ]
  },
  {
   "cell_type": "markdown",
   "metadata": {},
   "source": []
  }
 ],
 "metadata": {
  "kernelspec": {
   "display_name": "interviewt",
   "language": "python",
   "name": "python3"
  },
  "language_info": {
   "codemirror_mode": {
    "name": "ipython",
    "version": 3
   },
   "file_extension": ".py",
   "mimetype": "text/x-python",
   "name": "python",
   "nbconvert_exporter": "python",
   "pygments_lexer": "ipython3",
   "version": "3.8.20"
  }
 },
 "nbformat": 4,
 "nbformat_minor": 2
}
